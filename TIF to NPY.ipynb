{
 "cells": [
  {
   "cell_type": "code",
   "execution_count": 1,
   "id": "407e4a4f",
   "metadata": {},
   "outputs": [
    {
     "name": "stderr",
     "output_type": "stream",
     "text": [
      "100%|██████████████████████████████████████████████████████████████████████████████| 1881/1881 [00:37<00:00, 49.86it/s]"
     ]
    },
    {
     "name": "stdout",
     "output_type": "stream",
     "text": [
      "Conversion completed. Files are saved in: D:\\practice\\auf1_04242023_msi_chip_changed_npy\n"
     ]
    },
    {
     "name": "stderr",
     "output_type": "stream",
     "text": [
      "\n"
     ]
    }
   ],
   "source": [
    "import os\n",
    "import numpy as np\n",
    "import rasterio  # For reading .tif images\n",
    "from tqdm import tqdm  # Progress bar for better visibility\n",
    "\n",
    "# Define source and destination folders\n",
    "source_folder = r'D:\\practice\\auf1_04242023_msi_chip_changed'  # Change this path\n",
    "destination_folder = r'D:\\practice\\auf1_04242023_msi_chip_changed_npy'  # Change this path\n",
    "\n",
    "# Ensure destination folder exists\n",
    "os.makedirs(destination_folder, exist_ok=True)\n",
    "\n",
    "# Iterate through all .tif files in the source folder\n",
    "for filename in tqdm(os.listdir(source_folder)):\n",
    "    if filename.endswith('.tif'):\n",
    "        # Full path of the source file\n",
    "        source_path = os.path.join(source_folder, filename)\n",
    "        \n",
    "        # Read .tif image using rasterio\n",
    "        with rasterio.open(source_path) as src:\n",
    "            image_data = src.read()  # Read all bands\n",
    "        \n",
    "        # Save as .npy file\n",
    "        npy_filename = filename.replace('.tif', '.npy')\n",
    "        npy_path = os.path.join(destination_folder, npy_filename)\n",
    "        np.save(npy_path, image_data)\n",
    "\n",
    "print(f\"Conversion completed. Files are saved in: {destination_folder}\")\n"
   ]
  },
  {
   "cell_type": "code",
   "execution_count": null,
   "id": "9eaed327",
   "metadata": {},
   "outputs": [],
   "source": []
  }
 ],
 "metadata": {
  "kernelspec": {
   "display_name": "Python 3 (ipykernel)",
   "language": "python",
   "name": "python3"
  },
  "language_info": {
   "codemirror_mode": {
    "name": "ipython",
    "version": 3
   },
   "file_extension": ".py",
   "mimetype": "text/x-python",
   "name": "python",
   "nbconvert_exporter": "python",
   "pygments_lexer": "ipython3",
   "version": "3.10.4"
  }
 },
 "nbformat": 4,
 "nbformat_minor": 5
}
